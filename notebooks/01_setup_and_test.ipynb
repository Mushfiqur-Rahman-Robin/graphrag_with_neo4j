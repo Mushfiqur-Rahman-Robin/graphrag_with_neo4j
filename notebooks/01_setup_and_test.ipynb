{
 "cells": [
  {
   "cell_type": "code",
   "execution_count": 21,
   "id": "4085254f",
   "metadata": {},
   "outputs": [
    {
     "name": "stdout",
     "output_type": "stream",
     "text": [
      "✅ Configuration validated successfully\n",
      "Documents directory: /home/mushfiq/Desktop/graphrag_with_neo4j/notebooks/../documents\n",
      "Google API Key configured: Yes\n"
     ]
    }
   ],
   "source": [
    "import sys\n",
    "sys.path.append('../src')\n",
    "\n",
    "from config import config\n",
    "import os\n",
    "\n",
    "# Validate configuration\n",
    "try:\n",
    "    config.validate()\n",
    "    print(\"✅ Configuration validated successfully\")\n",
    "    print(f\"Documents directory: {config.DOCUMENTS_DIR}\")\n",
    "    print(f\"Google API Key configured: {'Yes' if config.GOOGLE_API_KEY else 'No'}\")\n",
    "except Exception as e:\n",
    "    print(f\"❌ Configuration error: {str(e)}\")"
   ]
  },
  {
   "cell_type": "code",
   "execution_count": 15,
   "id": "ec80313d",
   "metadata": {},
   "outputs": [],
   "source": [
    "import subprocess\n",
    "import time\n",
    "\n",
    "def start_neo4j():\n",
    "    \"\"\"Start Neo4j using Docker Compose\"\"\"\n",
    "    try:\n",
    "        # Change to project root\n",
    "        os.chdir('..')\n",
    "        \n",
    "        # Start Neo4j\n",
    "        result = subprocess.run(['docker-compose', 'up', '-d'], capture_output=True, text=True)\n",
    "        if result.returncode == 0:\n",
    "            print(\"✅ Neo4j started successfully\")\n",
    "            print(\"Waiting for Neo4j to be ready...\")\n",
    "            time.sleep(30)  # Wait for Neo4j to start\n",
    "            return True\n",
    "        else:\n",
    "            print(f\"❌ Error starting Neo4j: {result.stderr}\")\n",
    "            return False\n",
    "    except Exception as e:\n",
    "        print(f\"❌ Error: {str(e)}\")\n",
    "        return False"
   ]
  },
  {
   "cell_type": "code",
   "execution_count": 23,
   "id": "daf7608b",
   "metadata": {},
   "outputs": [
    {
     "name": "stdout",
     "output_type": "stream",
     "text": [
      "✅ Neo4j connection successful: [{'message': 'Hello Neo4j!'}]\n"
     ]
    },
    {
     "data": {
      "text/plain": [
       "True"
      ]
     },
     "execution_count": 23,
     "metadata": {},
     "output_type": "execute_result"
    }
   ],
   "source": [
    "from langchain_neo4j import Neo4jGraph\n",
    "\n",
    "def test_neo4j_connection():\n",
    "    try:\n",
    "        graph = Neo4jGraph(\n",
    "            url=config.NEO4J_URI,\n",
    "            username=config.NEO4J_USERNAME,\n",
    "            password=config.NEO4J_PASSWORD\n",
    "        )\n",
    "        \n",
    "        result = graph.query(\"RETURN 'Hello Neo4j!' as message\")\n",
    "        print(f\"✅ Neo4j connection successful: {result}\")\n",
    "        return True\n",
    "    except Exception as e:\n",
    "        print(f\"❌ Neo4j connection failed: {str(e)}\")\n",
    "        return False\n",
    "\n",
    "test_neo4j_connection()"
   ]
  },
  {
   "cell_type": "code",
   "execution_count": 24,
   "id": "eb23b74a",
   "metadata": {},
   "outputs": [
    {
     "name": "stderr",
     "output_type": "stream",
     "text": [
      "/home/mushfiq/Desktop/graphrag_with_neo4j/.venv/lib/python3.13/site-packages/tqdm/auto.py:21: TqdmWarning: IProgress not found. Please update jupyter and ipywidgets. See https://ipywidgets.readthedocs.io/en/stable/user_install.html\n",
      "  from .autonotebook import tqdm as notebook_tqdm\n"
     ]
    },
    {
     "name": "stdout",
     "output_type": "stream",
     "text": [
      "✅ Google API working: Hello! Yes, I am currently operational.\n",
      "\n",
      "The fact that I'm able to respond to your message confirms ...\n"
     ]
    },
    {
     "data": {
      "text/plain": [
       "True"
      ]
     },
     "execution_count": 24,
     "metadata": {},
     "output_type": "execute_result"
    }
   ],
   "source": [
    "from langchain_google_genai import ChatGoogleGenerativeAI\n",
    "\n",
    "def test_google_api():\n",
    "    try:\n",
    "        llm = ChatGoogleGenerativeAI(\n",
    "            model=config.GEMINI_MODEL,\n",
    "            google_api_key=config.GOOGLE_API_KEY\n",
    "        )\n",
    "        \n",
    "        response = llm.invoke(\"Hello! Can you confirm the API is working?\")\n",
    "        print(f\"✅ Google API working: {response.content[:100]}...\")\n",
    "        return True\n",
    "    except Exception as e:\n",
    "        print(f\"❌ Google API error: {str(e)}\")\n",
    "        return False\n",
    "\n",
    "test_google_api()"
   ]
  }
 ],
 "metadata": {
  "kernelspec": {
   "display_name": "graphrag_with_neo4j",
   "language": "python",
   "name": "python3"
  },
  "language_info": {
   "codemirror_mode": {
    "name": "ipython",
    "version": 3
   },
   "file_extension": ".py",
   "mimetype": "text/x-python",
   "name": "python",
   "nbconvert_exporter": "python",
   "pygments_lexer": "ipython3",
   "version": "3.13.2"
  }
 },
 "nbformat": 4,
 "nbformat_minor": 5
}
