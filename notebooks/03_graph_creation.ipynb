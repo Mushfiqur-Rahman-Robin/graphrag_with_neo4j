{
 "cells": [
  {
   "cell_type": "code",
   "execution_count": 4,
   "id": "93b9951e",
   "metadata": {},
   "outputs": [],
   "source": [
    "import sys\n",
    "sys.path.append(\"..\")  # add project root, not src\n",
    "\n",
    "from src.graph_processor import GraphProcessor\n",
    "import pickle"
   ]
  },
  {
   "cell_type": "code",
   "execution_count": 5,
   "id": "9723b465",
   "metadata": {},
   "outputs": [
    {
     "name": "stdout",
     "output_type": "stream",
     "text": [
      "✅ Loaded 2 processed documents\n"
     ]
    }
   ],
   "source": [
    "try:\n",
    "    with open('../processed_documents.pkl', 'rb') as f:\n",
    "        documents = pickle.load(f)\n",
    "    print(f\"✅ Loaded {len(documents)} processed documents\")\n",
    "except FileNotFoundError:\n",
    "    print(\"❌ No processed documents found. Run 02_document_processing.ipynb first\")\n",
    "    documents = []"
   ]
  },
  {
   "cell_type": "code",
   "execution_count": 6,
   "id": "40a69e51",
   "metadata": {},
   "outputs": [
    {
     "name": "stdout",
     "output_type": "stream",
     "text": [
      "Current graph stats: {'nodes': 0, 'relationships': 0}\n"
     ]
    }
   ],
   "source": [
    "if documents:\n",
    "    processor = GraphProcessor()\n",
    "    \n",
    "    # Check current graph state\n",
    "    stats = processor.get_graph_stats()\n",
    "    print(f\"Current graph stats: {stats}\")\n",
    "    \n",
    "    if stats['nodes'] > 0:\n",
    "        response = input(\"Graph already exists. Clear it? (y/n): \")\n",
    "        if response.lower() == 'y':\n",
    "            processor.clear_graph()"
   ]
  },
  {
   "cell_type": "code",
   "execution_count": 7,
   "id": "22d7d906",
   "metadata": {},
   "outputs": [
    {
     "name": "stdout",
     "output_type": "stream",
     "text": [
      "🔄 Creating knowledge graph...\n",
      "Converting documents to graph format...\n",
      "Created 2 graph documents\n",
      "Storing graph in Neo4j...\n",
      "Graph created successfully: 23 nodes, 17 relationships\n",
      "\n",
      "📊 Final Graph Statistics:\n",
      "Nodes: 23\n",
      "Relationships: 17\n",
      "\n",
      "📝 Sample nodes:\n",
      "  ['Technology']: Graphrag System\n",
      "  ['Technology']: Langchain\n",
      "  ['Technology']: Gemini\n",
      "  ['Technology']: Neo4J\n",
      "  ['Concept']: Document Processing\n",
      "  ['Concept']: Knowledge Graph Creation\n",
      "  ['Concept']: Vector Storage\n",
      "  ['Concept']: Hybrid Retrieval\n",
      "  ['Technology']: Python\n",
      "  ['Concept']: Semantic Chunking\n"
     ]
    }
   ],
   "source": [
    "if documents:\n",
    "    print(\"🔄 Creating knowledge graph...\")\n",
    "    success = processor.create_knowledge_graph(documents)\n",
    "    \n",
    "    if success:\n",
    "        # Show final stats\n",
    "        final_stats = processor.get_graph_stats()\n",
    "        print(\"\\n📊 Final Graph Statistics:\")\n",
    "        print(f\"Nodes: {final_stats['nodes']}\")\n",
    "        print(f\"Relationships: {final_stats['relationships']}\")\n",
    "        \n",
    "        # Show some sample nodes\n",
    "        print(\"\\n📝 Sample nodes:\")\n",
    "        sample_nodes = processor.neo4j_graph.query(\"\"\"\n",
    "            MATCH (n) \n",
    "            RETURN labels(n) as type, n.id as id \n",
    "            LIMIT 10\n",
    "        \"\"\")\n",
    "        \n",
    "        for node in sample_nodes:\n",
    "            print(f\"  {node['type']}: {node['id']}\")\n",
    "    else:\n",
    "        print(\"❌ Failed to create knowledge graph\")"
   ]
  },
  {
   "cell_type": "code",
   "execution_count": 8,
   "id": "f39a510b",
   "metadata": {},
   "outputs": [
    {
     "name": "stdout",
     "output_type": "stream",
     "text": [
      "\n",
      "🔍 Graph Exploration:\n",
      "Node types:\n",
      "  ['Concept']: 18\n",
      "  ['Technology']: 5\n",
      "\n",
      "Relationship types:\n",
      "  RELATED_TO: 12\n",
      "  IMPLEMENTS: 5\n",
      "\n",
      "Most connected nodes:\n",
      "  Gemini (['Technology']): 3 connections\n",
      "  Graphrag System (['Technology']): 3 connections\n",
      "  Neo4J (['Technology']): 3 connections\n",
      "  Relationships (['Concept']): 2 connections\n",
      "  Hybrid Retrieval (['Concept']): 2 connections\n",
      "  Vector Storage (['Concept']): 2 connections\n",
      "  Langchain (['Technology']): 2 connections\n",
      "  Graph Traversal (['Concept']): 2 connections\n",
      "  Knowledge Graph Creation (['Concept']): 1 connections\n",
      "  Semantic Chunking (['Concept']): 1 connections\n"
     ]
    }
   ],
   "source": [
    "if documents:\n",
    "    print(\"\\n🔍 Graph Exploration:\")\n",
    "    \n",
    "    # Node types\n",
    "    node_types = processor.neo4j_graph.query(\"\"\"\n",
    "        MATCH (n) \n",
    "        RETURN DISTINCT labels(n) as node_type, count(n) as count\n",
    "        ORDER BY count DESC\n",
    "    \"\"\")\n",
    "    \n",
    "    print(\"Node types:\")\n",
    "    for node_type in node_types:\n",
    "        print(f\"  {node_type['node_type']}: {node_type['count']}\")\n",
    "    \n",
    "    # Relationship types\n",
    "    rel_types = processor.neo4j_graph.query(\"\"\"\n",
    "        MATCH ()-[r]->() \n",
    "        RETURN type(r) as rel_type, count(r) as count\n",
    "        ORDER BY count DESC\n",
    "    \"\"\")\n",
    "    \n",
    "    print(\"\\nRelationship types:\")\n",
    "    for rel_type in rel_types:\n",
    "        print(f\"  {rel_type['rel_type']}: {rel_type['count']}\")\n",
    "    \n",
    "    # Most connected nodes\n",
    "    connected_nodes = processor.neo4j_graph.query(\"\"\"\n",
    "        MATCH (n)-[r]-()\n",
    "        RETURN n.id as node, labels(n) as type, count(r) as connections\n",
    "        ORDER BY connections DESC\n",
    "        LIMIT 10\n",
    "    \"\"\")\n",
    "    \n",
    "    print(\"\\nMost connected nodes:\")\n",
    "    for node in connected_nodes:\n",
    "        print(f\"  {node['node']} ({node['type']}): {node['connections']} connections\")"
   ]
  }
 ],
 "metadata": {
  "kernelspec": {
   "display_name": "graphrag_with_neo4j",
   "language": "python",
   "name": "python3"
  },
  "language_info": {
   "codemirror_mode": {
    "name": "ipython",
    "version": 3
   },
   "file_extension": ".py",
   "mimetype": "text/x-python",
   "name": "python",
   "nbconvert_exporter": "python",
   "pygments_lexer": "ipython3",
   "version": "3.13.2"
  }
 },
 "nbformat": 4,
 "nbformat_minor": 5
}
