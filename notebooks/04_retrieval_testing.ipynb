{
 "cells": [
  {
   "cell_type": "code",
   "execution_count": 1,
   "id": "433e7e09",
   "metadata": {},
   "outputs": [
    {
     "name": "stderr",
     "output_type": "stream",
     "text": [
      "/home/mushfiq/Desktop/graphrag_with_neo4j/.venv/lib/python3.13/site-packages/tqdm/auto.py:21: TqdmWarning: IProgress not found. Please update jupyter and ipywidgets. See https://ipywidgets.readthedocs.io/en/stable/user_install.html\n",
      "  from .autonotebook import tqdm as notebook_tqdm\n"
     ]
    }
   ],
   "source": [
    "import sys\n",
    "sys.path.append('..')\n",
    "\n",
    "from src.retrieval_system import RetrievalSystem\n",
    "import pickle"
   ]
  },
  {
   "cell_type": "code",
   "execution_count": 2,
   "id": "e20a6186",
   "metadata": {},
   "outputs": [
    {
     "name": "stdout",
     "output_type": "stream",
     "text": [
      "✅ Loaded 2 processed documents\n"
     ]
    }
   ],
   "source": [
    "try:\n",
    "    with open('../processed_documents.pkl', 'rb') as f:\n",
    "        documents = pickle.load(f)\n",
    "    print(f\"✅ Loaded {len(documents)} processed documents\")\n",
    "except FileNotFoundError:\n",
    "    print(\"❌ No processed documents found. Run 02_document_processing.ipynb first\")\n",
    "    documents = []"
   ]
  },
  {
   "cell_type": "code",
   "execution_count": 3,
   "id": "6bddfe23",
   "metadata": {},
   "outputs": [
    {
     "name": "stdout",
     "output_type": "stream",
     "text": [
      "🔄 Initializing retrieval system...\n",
      "Creating vector store...\n",
      "Vector store created with 2 documents\n",
      "✅ Graph retriever created successfully (k signature)\n",
      "✅ Retrieval system ready!\n"
     ]
    }
   ],
   "source": [
    "if documents:\n",
    "    print(\"🔄 Initializing retrieval system...\")\n",
    "    retrieval_system = RetrievalSystem(documents)\n",
    "    print(\"✅ Retrieval system ready!\")"
   ]
  },
  {
   "cell_type": "code",
   "execution_count": 4,
   "id": "213e3da0",
   "metadata": {},
   "outputs": [
    {
     "name": "stdout",
     "output_type": "stream",
     "text": [
      "🧪 Testing basic queries...\n",
      "\n",
      "📝 Query 1: What is GraphRAG?\n",
      "✅ Response: GraphRAG is a system that integrates a knowledge graph with Retrieval-Augmented Generation (RAG) capabilities to enhance context understanding and retrieval accuracy.\n",
      "\n",
      "Based on the provided context, a GraphRAG system implementation involves several key components:\n",
      "*   **Document Processing:** Utilizes semantic chunking to process documents.\n",
      "*   **Knowledge Graph Creation:** Extracts entities and r...\n",
      "\n",
      "📝 Query 2: What technologies are used in this system?\n",
      "✅ Response: The technologies used in this system are:\n",
      "\n",
      "*   LangChain\n",
      "*   Gemini\n",
      "*   Neo4j\n",
      "*   Python\n",
      "\n",
      "(Source: sample_graphrag.docx)...\n",
      "\n",
      "📝 Query 3: What are the benefits of using GraphRAG?\n",
      "✅ Response: Based on the provided context from `sample_graphrag.docx`, the benefits of using GraphRAG are:\n",
      "\n",
      "*   **Better context understanding** through relationships.\n",
      "*   **More accurate retrieval** through graph traversal.\n",
      "*   **Explainable results** through graph structure....\n",
      "\n",
      "📝 Query 4: How does the system work?\n",
      "✅ Response: The system works through a series of key components and processes, as described in the `sample_graphrag.docx` document:\n",
      "\n",
      "1.  **Document Processing**: The system begins by processing documents using semantic chunking.\n",
      "2.  **Knowledge Graph Creation**: It then extracts entities and relationships from the processed documents utilizing a Large Language Model (LLM).\n",
      "3.  **Vector Storage**: Embeddings a...\n",
      "\n",
      "📝 Query 5: What are the key components?\n",
      "✅ Response: The key components of the GraphRAG system are:\n",
      "\n",
      "*   **Document Processing**: Uses semantic chunking to process documents.\n",
      "*   **Knowledge Graph Creation**: Extracts entities and relationships using an LLM.\n",
      "*   **Vector Storage**: Stores embeddings for similarity search.\n",
      "*   **Hybrid Retrieval**: Combines graph traversal with vector search.\n",
      "\n",
      "Source: sample_graphrag.docx...\n"
     ]
    }
   ],
   "source": [
    "if documents:\n",
    "    test_queries = [\n",
    "        \"What is GraphRAG?\",\n",
    "        \"What technologies are used in this system?\",\n",
    "        \"What are the benefits of using GraphRAG?\",\n",
    "        \"How does the system work?\",\n",
    "        \"What are the key components?\"\n",
    "    ]\n",
    "    \n",
    "    print(\"🧪 Testing basic queries...\")\n",
    "    for i, query in enumerate(test_queries, 1):\n",
    "        print(f\"\\n📝 Query {i}: {query}\")\n",
    "        try:\n",
    "            response = retrieval_system.query(query)\n",
    "            print(f\"✅ Response: {response[:400]}...\")\n",
    "        except Exception as e:\n",
    "            print(f\"❌ Error: {str(e)}\")"
   ]
  },
  {
   "cell_type": "code",
   "execution_count": 5,
   "id": "eb5e3a90",
   "metadata": {},
   "outputs": [
    {
     "name": "stdout",
     "output_type": "stream",
     "text": [
      "\n",
      "💬 Interactive Query Interface\n",
      "Type 'quit' to exit\n",
      "🔄 Processing...\n",
      "\n",
      "🤖 Response:\n",
      "Hybrid retrieval combines graph traversal with vector search.\n",
      "\n",
      "Source: sample_graphrag.docx\n",
      "\n",
      "👋 Goodbye!\n"
     ]
    }
   ],
   "source": [
    "if documents:\n",
    "    print(\"\\n💬 Interactive Query Interface\")\n",
    "    print(\"Type 'quit' to exit\")\n",
    "    \n",
    "    while True:\n",
    "        user_query = input(\"\\n🤔 Your question: \").strip()\n",
    "        \n",
    "        if user_query.lower() in ['quit', 'exit', 'q']:\n",
    "            print(\"👋 Goodbye!\")\n",
    "            break\n",
    "        \n",
    "        if user_query:\n",
    "            try:\n",
    "                print(\"🔄 Processing...\")\n",
    "                response = retrieval_system.query(user_query)\n",
    "                print(f\"\\n🤖 Response:\\n{response}\\n\")\n",
    "            except Exception as e:\n",
    "                print(f\"❌ Error: {str(e)}\")\n",
    "        else:\n",
    "            print(\"Please enter a question.\")"
   ]
  },
  {
   "cell_type": "code",
   "execution_count": 6,
   "id": "a1b7fbab",
   "metadata": {},
   "outputs": [
    {
     "name": "stdout",
     "output_type": "stream",
     "text": [
      "📊 Performance Testing...\n",
      "\n",
      "Query: What is the main purpose of this system?\n",
      "Response time: 4.97 seconds\n",
      "Response length: 424 characters\n",
      "\n",
      "Query: List all the technologies mentioned\n",
      "Response time: 2.38 seconds\n",
      "Response length: 137 characters\n",
      "\n",
      "Query: How do the components work together?\n",
      "Response time: 6.81 seconds\n",
      "Response length: 2544 characters\n"
     ]
    }
   ],
   "source": [
    "if documents:\n",
    "    import time\n",
    "    \n",
    "    print(\"📊 Performance Testing...\")\n",
    "    \n",
    "    performance_queries = [\n",
    "        \"What is the main purpose of this system?\",\n",
    "        \"List all the technologies mentioned\",\n",
    "        \"How do the components work together?\",\n",
    "    ]\n",
    "    \n",
    "    for query in performance_queries:\n",
    "        start_time = time.time()\n",
    "        response = retrieval_system.query(query)\n",
    "        end_time = time.time()\n",
    "        \n",
    "        print(f\"\\nQuery: {query}\")\n",
    "        print(f\"Response time: {end_time - start_time:.2f} seconds\")\n",
    "        print(f\"Response length: {len(response)} characters\")"
   ]
  }
 ],
 "metadata": {
  "kernelspec": {
   "display_name": "graphrag_with_neo4j",
   "language": "python",
   "name": "python3"
  },
  "language_info": {
   "codemirror_mode": {
    "name": "ipython",
    "version": 3
   },
   "file_extension": ".py",
   "mimetype": "text/x-python",
   "name": "python",
   "nbconvert_exporter": "python",
   "pygments_lexer": "ipython3",
   "version": "3.13.2"
  }
 },
 "nbformat": 4,
 "nbformat_minor": 5
}
